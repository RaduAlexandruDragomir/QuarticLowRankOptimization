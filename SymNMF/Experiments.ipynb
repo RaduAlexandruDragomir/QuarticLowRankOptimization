{
 "cells": [
  {
   "cell_type": "markdown",
   "metadata": {},
   "source": [
    "# SymNMF numerical experiments\n",
    "\n",
    "This notebook shows how to reproduce the experiments for Symmetric Nonnegative Matrix Factorization (SymNMF) described in \n",
    "\n",
    "> R.A. Dragomir, A. d'Aspremont and J. Bolte. Quartic First-Order Methods for Low Rank Minimization (2019)"
   ]
  },
  {
   "cell_type": "code",
   "execution_count": 7,
   "metadata": {
    "collapsed": false
   },
   "outputs": [
    {
     "name": "stderr",
     "output_type": "stream",
     "text": [
      "┌ Info: Precompiling Distributions [31c24e10-a181-5473-b8eb-7969acd0382f]\n",
      "└ @ Base loading.jl:1186\n"
     ]
    },
    {
     "ename": "LoadError",
     "evalue": "syntax: missing comma or ) in argument list",
     "output_type": "error",
     "traceback": [
      "syntax: missing comma or ) in argument list",
      "",
      "Stacktrace:",
      " [1] include at ./boot.jl:326 [inlined]",
      " [2] include_relative(::Module, ::String) at ./loading.jl:1038",
      " [3] include(::Module, ::String) at ./sysimg.jl:29",
      " [4] include(::String) at ./client.jl:403",
      " [5] top-level scope at In[7]:3"
     ]
    }
   ],
   "source": [
    "include(\"utils.jl\")\n",
    "include(\"PG.jl\") # projected gradient \n",
    "include(\"BPG.jl\") # Bregman proximal gradient algorithms (Nolips and variants)\n",
    "include(\"Beta.jl\")\n",
    "include(\"CD.jl\")\n",
    "include(\"SymHALS.jl\")\n",
    "include(\"SymANLS.jl\")\n",
    "\n",
    "include(\"SymNMF.jl\") # wrapper for all SymNMF solvers"
   ]
  },
  {
   "cell_type": "code",
   "execution_count": 8,
   "metadata": {
    "collapsed": false
   },
   "outputs": [
    {
     "name": "stderr",
     "output_type": "stream",
     "text": [
      "┌ Info: Precompiling NPZ [15e1cf62-19b3-5cfa-8e77-841668bca605]\n",
      "└ @ Base loading.jl:1186\n"
     ]
    },
    {
     "ename": "ArgumentError",
     "evalue": "ArgumentError: Package JLD not found in current path:\n- Run `import Pkg; Pkg.add(\"JLD\")` to install the JLD package.\n",
     "output_type": "error",
     "traceback": [
      "ArgumentError: Package JLD not found in current path:\n- Run `import Pkg; Pkg.add(\"JLD\")` to install the JLD package.\n",
      "",
      "Stacktrace:",
      " [1] require(::Module, ::Symbol) at ./loading.jl:823",
      " [2] top-level scope at In[8]:6"
     ]
    }
   ],
   "source": [
    "using LinearAlgebra\n",
    "using PyPlot\n",
    "using Random\n",
    "using NPZ\n",
    "using SparseArrays\n",
    "using JLD"
   ]
  },
  {
   "cell_type": "code",
   "execution_count": 9,
   "metadata": {},
   "outputs": [
    {
     "name": "stdout",
     "output_type": "stream",
     "text": [
      "\u001b[32m\u001b[1m Resolving\u001b[22m\u001b[39m package versions...\n",
      "\u001b[32m\u001b[1m Installed\u001b[22m\u001b[39m Blosc ───────── v0.5.1\n",
      "\u001b[32m\u001b[1m Installed\u001b[22m\u001b[39m CMakeWrapper ── v0.2.3\n",
      "\u001b[32m\u001b[1m Installed\u001b[22m\u001b[39m CMake ───────── v1.1.2\n",
      "\u001b[32m\u001b[1m Installed\u001b[22m\u001b[39m Parameters ──── v0.12.0\n",
      "\u001b[32m\u001b[1m Installed\u001b[22m\u001b[39m LegacyStrings ─ v0.4.1\n",
      "\u001b[32m\u001b[1m Installed\u001b[22m\u001b[39m JLD ─────────── v0.9.1\n",
      "\u001b[32m\u001b[1m Installed\u001b[22m\u001b[39m HDF5 ────────── v0.12.5\n",
      "\u001b[32m\u001b[1m Installed\u001b[22m\u001b[39m FileIO ──────── v1.1.0\n",
      "\u001b[32m\u001b[1m  Updating\u001b[22m\u001b[39m `~/.julia/environments/v1.1/Project.toml`\n",
      " \u001b[90m [4138dd39]\u001b[39m\u001b[92m + JLD v0.9.1\u001b[39m\n",
      "\u001b[32m\u001b[1m  Updating\u001b[22m\u001b[39m `~/.julia/environments/v1.1/Manifest.toml`\n",
      " \u001b[90m [a74b3585]\u001b[39m\u001b[92m + Blosc v0.5.1\u001b[39m\n",
      " \u001b[90m [631607c0]\u001b[39m\u001b[92m + CMake v1.1.2\u001b[39m\n",
      " \u001b[90m [d5fb7624]\u001b[39m\u001b[92m + CMakeWrapper v0.2.3\u001b[39m\n",
      " \u001b[90m [5789e2e9]\u001b[39m\u001b[92m + FileIO v1.1.0\u001b[39m\n",
      " \u001b[90m [f67ccb44]\u001b[39m\u001b[92m + HDF5 v0.12.5\u001b[39m\n",
      " \u001b[90m [4138dd39]\u001b[39m\u001b[92m + JLD v0.9.1\u001b[39m\n",
      " \u001b[90m [1b4a561d]\u001b[39m\u001b[92m + LegacyStrings v0.4.1\u001b[39m\n",
      " \u001b[90m [d96e819e]\u001b[39m\u001b[92m + Parameters v0.12.0\u001b[39m\n",
      " \u001b[90m [9abbd945]\u001b[39m\u001b[92m + Profile \u001b[39m\n",
      "\u001b[32m\u001b[1m  Building\u001b[22m\u001b[39m CMake → `~/.julia/packages/CMake/nSK2r/deps/build.log`\n",
      "\u001b[32m\u001b[1m  Building\u001b[22m\u001b[39m Blosc → `~/.julia/packages/Blosc/lzFr0/deps/build.log`\n",
      "\u001b[32m\u001b[1m  Building\u001b[22m\u001b[39m HDF5 ─→ `~/.julia/packages/HDF5/Zh9on/deps/build.log`\n"
     ]
    }
   ],
   "source": [
    "Pkg.add(\"JLD\")"
   ]
  },
  {
   "cell_type": "markdown",
   "metadata": {},
   "source": [
    "# 1. Defining algorithm-specific parameters"
   ]
  },
  {
   "cell_type": "code",
   "execution_count": 4,
   "metadata": {
    "collapsed": false
   },
   "outputs": [
    {
     "data": {
      "text/plain": [
       "(step = 0.15, gamma_inc = 2.0, gamma_dec = 2.0, C_restart = 10, rho_restart = 5)"
      ]
     },
     "execution_count": 4,
     "metadata": {},
     "output_type": "execute_result"
    }
   ],
   "source": [
    "algos = [:pga, :nolips, :acc_nolips, :dyn_nolips, :beta, :cd, :sym_hals]\n",
    "algo_names = Dict(:pga => \"PG\", :nolips => \"Nolips\",\n",
    "    :dyn_nolips => \"Dyn-Nolips\", :beta => \"Beta\", :cd => \"CD\",\n",
    "    :sym_hals => \"SymHALS\", :sym_anls => \"SymANLS\", :dyn_acc_nolips => \"Acc-Dyn-Nolips\",\n",
    "    :restart_nolips => \"Fast-NoLips\")\n",
    "\n",
    "algo_params = Dict()\n",
    "\n",
    "algo_params[:pga] = (step = 1., beta = 0.1, sigma = 0.01, max_inner_iter = 20)\n",
    "algo_params[:nolips] = (step = 0.9 / 6.,)\n",
    "algo_params[:dyn_nolips] = (step = 0.9 / 6., gamma_inc = 2., gamma_dec = 2.)\n",
    "algo_params[:dyn_acc_nolips] = (step = 0.9 / 6., gamma_inc = 2., gamma_dec = 2.)\n",
    "algo_params[:beta] = (beta = 0.99,)\n",
    "algo_params[:cd] = ()\n",
    "algo_params[:sym_hals] = (mu = 1e-2,)\n",
    "algo_params[:restart_nolips] = (step = 0.9 / 6., gamma_inc = 2., gamma_dec = 2.,\n",
    "    C_restart = 10, rho_restart = 5)"
   ]
  },
  {
   "cell_type": "markdown",
   "metadata": {},
   "source": [
    "# 2. Loading data\n",
    "\n",
    "All similarity matrices can be found in a pre-processed format in the ```data/``` folder. Choose the dataset by setting the ```dataset``` variable below:"
   ]
  },
  {
   "cell_type": "code",
   "execution_count": 6,
   "metadata": {
    "collapsed": false
   },
   "outputs": [
    {
     "data": {
      "text/plain": [
       ":coil20"
      ]
     },
     "execution_count": 6,
     "metadata": {},
     "output_type": "execute_result"
    }
   ],
   "source": [
    "possible_choices = [:synth500, :synth1000, :cbcl, :coil20, :tdt2, :reuters]\n",
    "\n",
    "dataset = :coil20 # CHANGE HERE"
   ]
  },
  {
   "cell_type": "markdown",
   "metadata": {},
   "source": [
    "We now load the desired dataset and set the specific experiment parameters (such as the penalization $\\mu$ for penalty methods, and the maximal running time):"
   ]
  },
  {
   "cell_type": "code",
   "execution_count": 7,
   "metadata": {
    "collapsed": false
   },
   "outputs": [],
   "source": [
    "max_iter = 12000\n",
    "max_time = 10.\n",
    "monit_acc = true;\n",
    "y_true = [0]\n",
    "\n",
    "function load_dataset(ds_name)\n",
    "    file_content = load(\"data/$ds_name.jld\") \n",
    "    return file_content[\"M\"], file_content[\"labels\"]\n",
    "end\n",
    "\n",
    "if dataset == :synth500 # synthetic dataset\n",
    "    mu = 1e1\n",
    "    max_time = 5.\n",
    "    n, r = 500, 20\n",
    "    M, r = synthetic_SNMF(n, r), r;\n",
    "    monit_acc = false\n",
    "\n",
    "elseif dataset == :synth1000\n",
    "    mu = 1e1\n",
    "    max_time = 10.\n",
    "    n, r = 1000, 30\n",
    "    M, r = synthetic_SNMF(n, r), r;\n",
    "    monit_acc = false\n",
    "\n",
    "elseif dataset == :cbcl\n",
    "    mu = 1e-2\n",
    "    max_time = 10.\n",
    "    r = 20\n",
    "    M, y_true = load_dataset(\"cbcl\")\n",
    "    monit_acc = false\n",
    "\n",
    "elseif dataset == :coil20\n",
    "    mu = 1e-2\n",
    "    max_time = 20.\n",
    "    M, y_true = load_dataset(\"coil20\")\n",
    "    r = 20\n",
    "\n",
    "elseif dataset == :tdt2\n",
    "    mu = 1e-1\n",
    "    max_time = 20.\n",
    "    M, y_true = load_dataset(\"tdt2\")\n",
    "    r = 30\n",
    "    \n",
    "elseif dataset == :reuters\n",
    "    mu = 1e-1\n",
    "    max_time = 20.\n",
    "    M, y_true = load_dataset(\"reuters\")\n",
    "    r = 25\n",
    "\n",
    "elseif dataset == :orl\n",
    "    mu = 1e-2\n",
    "    max_time = 10.\n",
    "    M, y_true = load_dataset(\"orl\")\n",
    "    r = 40\n",
    "end\n",
    "\n",
    "algo_params[:sym_hals] = (mu = mu,)\n",
    "algo_params[:sym_anls] = (mu = mu,)\n",
    "\n",
    "monitoring_interval = max_time / 20.;"
   ]
  },
  {
   "cell_type": "markdown",
   "metadata": {},
   "source": [
    "# 3. Running experiments\n",
    "\n",
    "We start by defining a convenient wrapper for running an algorithm:"
   ]
  },
  {
   "cell_type": "code",
   "execution_count": 8,
   "metadata": {
    "collapsed": false
   },
   "outputs": [],
   "source": [
    "function run_algo(algo::Symbol, A0::Matrix{Float64}, algo_params)\n",
    "    SymNMF(M, r; algo = algo, \n",
    "        max_iter = max_iter, \n",
    "        max_time = max_time,\n",
    "        monitoring_interval = monitoring_interval, \n",
    "        A_init = A0, \n",
    "        monitor_accuracy = monit_acc, \n",
    "        true_labels = y_true,\n",
    "        algo_params...);\n",
    "end;"
   ]
  },
  {
   "cell_type": "markdown",
   "metadata": {},
   "source": [
    "Run this cell to launch simulations. The variable ```n_runs``` controls the number of random initializations to try.\n",
    "\n",
    "As an example we launched 20 simulations for the TDT2 dataset.  "
   ]
  },
  {
   "cell_type": "code",
   "execution_count": null,
   "metadata": {
    "collapsed": false
   },
   "outputs": [
    {
     "name": "stdout",
     "output_type": "stream",
     "text": [
      "Run number 1 / 20 ...\n",
      "Constraint satisfaction for penalty method sym_hals : |A - B|/|A| = 7.383631795067445e-7\n",
      "Constraint satisfaction for penalty method sym_anls : |A - B|/|A| = 0.001310224199410511\n",
      "Run number 2 / 20 ...\n",
      "Constraint satisfaction for penalty method sym_hals : |A - B|/|A| = 4.7673552972880414e-7\n",
      "Constraint satisfaction for penalty method sym_anls : |A - B|/|A| = 0.00018792811708078245\n",
      "Run number 3 / 20 ...\n",
      "Constraint satisfaction for penalty method sym_hals : |A - B|/|A| = 1.8731086789100407e-10\n"
     ]
    }
   ],
   "source": [
    "n_runs = 20 # number of runs to average\n",
    "\n",
    "algos_to_run = [:pga, :dyn_nolips, :beta, :cd,\n",
    "    :sym_hals, :sym_anls]\n",
    "\n",
    "all_losses = Dict()\n",
    "clust_accs = Dict()\n",
    "n_measures = Dict()\n",
    "min_loss = Inf\n",
    "\n",
    "for t = 1:n_runs\n",
    "    println(\"Run number $t / $n_runs ...\")\n",
    "    A0 = random_init_sym(M, r);\n",
    "\n",
    "    for algo = algos_to_run\n",
    "        params, name = algo_params[algo], algo_names[algo]\n",
    "\n",
    "        A, losses = run_algo(algo, A0, params)\n",
    "        \n",
    "        # updating minimal loss\n",
    "        min_loss = min(min_loss, minimum(losses[:,2]))\n",
    "        \n",
    "        if t == 1\n",
    "            all_losses[algo] = losses\n",
    "            clust_accs[algo] = [losses[end,:4]]\n",
    "        else\n",
    "            push!(clust_accs[algo], losses[end,:4])\n",
    "            \n",
    "            # a procedure to ensure that all losses measures have same size,\n",
    "            # in order to average them\n",
    "            n_meas_old = size(all_losses[algo],1)\n",
    "            n_meas_new = min(n_meas_old, size(losses,1))\n",
    "\n",
    "            trimmed_old_losses = all_losses[algo][1:n_meas_new,:]\n",
    "            trimmed_losses = losses[1:n_meas_new,:]\n",
    "            \n",
    "            all_losses[algo] = ((t - 1) * trimmed_old_losses + trimmed_losses) / t\n",
    "        end\n",
    "    end    \n",
    "end\n",
    "\n",
    "all_losses[:min_loss] = min_loss"
   ]
  },
  {
   "cell_type": "markdown",
   "metadata": {},
   "source": [
    "# 4. Plotting the convergence speed"
   ]
  },
  {
   "cell_type": "code",
   "execution_count": 9,
   "metadata": {
    "collapsed": false
   },
   "outputs": [
    {
     "data": {
      "image/png": "[encoded data removed]",
      "text/plain": [
       "Figure(PyObject <matplotlib.figure.Figure object at 0x7f08785e5f28>)"
      ]
     },
     "metadata": {},
     "output_type": "display_data"
    },
    {
     "data": {
      "text/plain": [
       "PyObject <matplotlib.text.Text object at 0x7f0878296c18>"
      ]
     },
     "execution_count": 9,
     "metadata": {},
     "output_type": "execute_result"
    }
   ],
   "source": [
    "fig, ax = subplots()\n",
    "\n",
    "markers = Dict(:pga => \".\", :nolips => \"v\", :acc_nolips => \"s\",\n",
    "    :dyn_nolips => \"D\", :restart_nolips => \"s\", :cd => \"None\",\n",
    "    :sym_hals => \"^\", :sym_anls => \"h\", :dyn_acc_nolips => \"s\", :beta => \"None\")\n",
    "\n",
    "\n",
    "algos_to_show = [:dyn_nolips, :restart_nolips, :beta, :pga, :cd, :sym_anls, :sym_hals]\n",
    "\n",
    "linestyles = Dict()\n",
    "for algo = algos_to_show\n",
    "   linestyles[algo] = \"-\" \n",
    "end\n",
    "\n",
    "linestyles[:beta] = \"--\"\n",
    "linestyles[:cd] = \"-.\"\n",
    "\n",
    "function plot_loss(axis, losses, label, marker, ls)\n",
    "    min_loss = all_losses[:min_loss]\n",
    "    axis[:plot](losses[:,1], losses[:,2] .- min_loss, label = label,\n",
    "        marker = marker, linestyle = ls, linewidth = 2)\n",
    "end\n",
    "\n",
    "for algo = algos_to_show\n",
    "   plot_loss(ax, all_losses[algo], algo_names[algo], markers[algo],\n",
    "        linestyles[algo]) \n",
    "end\n",
    "\n",
    "fontsize = 12\n",
    "ax[:set_xlabel](\"Time (seconds)\", fontsize = fontsize)\n",
    "\n",
    "ax[:set_ylabel](\"f(X^k) - f_min\", fontsize = fontsize)\n",
    "\n",
    "ax[:legend](fontsize = fontsize, loc = 1);\n",
    "ax[:set_yscale](\"log\");\n",
    "\n",
    "n = size(M, 1)\n",
    "title(\"Results on dataset $dataset, with n = $n, r = $r. Averaged over $n_runs runs\")\n",
    "# ax1[:set_xlim](0, 5.)"
   ]
  },
  {
   "cell_type": "markdown",
   "metadata": {},
   "source": [
    "# 5. Evaluating clustering accuracy"
   ]
  },
  {
   "cell_type": "code",
   "execution_count": 10,
   "metadata": {
    "collapsed": false
   },
   "outputs": [
    {
     "name": "stdout",
     "output_type": "stream",
     "text": [
      "Clustering accuracies \n",
      "\n",
      "PG\t0.8231530764317648\n",
      "Dyn-Nolips\t0.8388971684053651\n",
      "Beta\t0.8029327230146903\n",
      "CD\t0.414413455397062\n",
      "SymHALS\t0.8373908878007239\n",
      "SymANLS\t0.43392591015541837\n",
      "Fast-NoLips\t0.8621566957632533\n"
     ]
    }
   ],
   "source": [
    "println(\"Clustering accuracies \\n\")\n",
    "for algo = algos_to_run\n",
    "    println(algo_names[algo], \"\\t\", mean(clust_accs[algo]))\n",
    "end"
   ]
  },
  {
   "cell_type": "code",
   "execution_count": null,
   "metadata": {
    "collapsed": true
   },
   "outputs": [],
   "source": []
  }
 ],
 "metadata": {
  "@webio": {
   "lastCommId": "A017F656921E4A27879C32B88987A3B7",
   "lastKernelId": "de8bed00-5d53-4a9b-a714-4e99726517b4"
  },
  "kernelspec": {
   "display_name": "Julia 1.1.0",
   "language": "julia",
   "name": "julia-1.1"
  },
  "language_info": {
   "file_extension": ".jl",
   "mimetype": "application/julia",
   "name": "julia",
   "version": "1.1.0"
  }
 },
 "nbformat": 4,
 "nbformat_minor": 2
}
