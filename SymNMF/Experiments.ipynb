{
 "cells": [
  {
   "cell_type": "markdown",
   "metadata": {},
   "source": [
    "# SymNMF numerical experiments\n",
    "\n",
    "This notebook shows how to reproduce the experiments for Symmetric Nonnegative Matrix Factorization (SymNMF) described in \n",
    "\n",
    "> R.A. Dragomir, A. d'Aspremont and J. Bolte. Quartic First-Order Methods for Low Rank Minimization (2019)"
   ]
  },
  {
   "cell_type": "code",
   "execution_count": 100,
   "metadata": {
    "collapsed": false
   },
   "outputs": [
    {
     "data": {
      "text/plain": [
       "SymNMF"
      ]
     },
     "execution_count": 100,
     "metadata": {},
     "output_type": "execute_result"
    }
   ],
   "source": [
    "include(\"utils.jl\")\n",
    "include(\"PG.jl\") # projected gradient \n",
    "include(\"BPG.jl\") # Bregman proximal gradient algorithms (Nolips and variants)\n",
    "include(\"Beta.jl\")\n",
    "include(\"CD.jl\")\n",
    "include(\"SymHALS.jl\")\n",
    "include(\"SymANLS.jl\")\n",
    "\n",
    "include(\"SymNMF.jl\") # wrapper for all SymNMF solvers"
   ]
  },
  {
   "cell_type": "code",
   "execution_count": 101,
   "metadata": {
    "collapsed": false
   },
   "outputs": [],
   "source": [
    "using LinearAlgebra\n",
    "using PyPlot\n",
    "using Random\n",
    "using NPZ\n",
    "using SparseArrays\n",
    "using JLD"
   ]
  },
  {
   "cell_type": "markdown",
   "metadata": {},
   "source": [
    "# 1. Defining algorithm-specific parameters"
   ]
  },
  {
   "cell_type": "code",
   "execution_count": 102,
   "metadata": {
    "collapsed": false
   },
   "outputs": [
    {
     "data": {
      "text/plain": [
       "(mu = 0.01,)"
      ]
     },
     "execution_count": 102,
     "metadata": {},
     "output_type": "execute_result"
    }
   ],
   "source": [
    "algos = [:pga, :nolips, :acc_nolips, :dyn_nolips, :beta, :cd, :sym_hals]\n",
    "algo_names = Dict(:pga => \"PG\", :dyn_nolips => \"Dyn-Nolips\", \n",
    "    :beta => \"Beta\", :cd => \"CD\",\n",
    "    :sym_hals => \"SymHALS\", :sym_anls => \"SymANLS\")\n",
    "\n",
    "algo_params = Dict()\n",
    "\n",
    "algo_params[:pga] = (step = 1., beta = 0.1, sigma = 0.01, max_inner_iter = 20)\n",
    "algo_params[:dyn_nolips] = (step = 1., gamma_inc = 2., gamma_dec = 2.)\n",
    "algo_params[:beta] = (beta = 0.99,)\n",
    "algo_params[:cd] = ()\n",
    "algo_params[:sym_hals] = (mu = 1e-2,)"
   ]
  },
  {
   "cell_type": "markdown",
   "metadata": {},
   "source": [
    "# 2. Loading data\n",
    "\n",
    "All similarity matrices can be found in a pre-processed format in the ```data/``` folder. Choose the dataset by setting the ```dataset``` variable below:"
   ]
  },
  {
   "cell_type": "code",
   "execution_count": 103,
   "metadata": {
    "collapsed": false
   },
   "outputs": [
    {
     "data": {
      "text/plain": [
       ":tdt2"
      ]
     },
     "execution_count": 103,
     "metadata": {},
     "output_type": "execute_result"
    }
   ],
   "source": [
    "possible_choices = [:synth500, :synth1000, :cbcl, :coil20, :tdt2, :reuters]\n",
    "\n",
    "dataset = :tdt2 # CHANGE HERE"
   ]
  },
  {
   "cell_type": "markdown",
   "metadata": {},
   "source": [
    "We now load the desired dataset and set the specific experiment parameters (such as the penalization $\\mu$ for penalty methods, and the maximal running time):"
   ]
  },
  {
   "cell_type": "code",
   "execution_count": 104,
   "metadata": {
    "collapsed": false
   },
   "outputs": [],
   "source": [
    "max_iter = 12000\n",
    "max_time = 10.\n",
    "monit_acc = true;\n",
    "y_true = [0]\n",
    "\n",
    "function load_dataset(ds_name)\n",
    "    file_content = load(\"data/$ds_name.jld\") \n",
    "    return file_content[\"M\"], file_content[\"labels\"]\n",
    "end\n",
    "\n",
    "if dataset == :synth500 # synthetic dataset\n",
    "    mu = 1e1\n",
    "    max_time = 5.\n",
    "    n, r = 500, 20\n",
    "    M, r = synthetic_SNMF(n, r), r;\n",
    "    monit_acc = false\n",
    "\n",
    "elseif dataset == :synth1000\n",
    "    mu = 1e1\n",
    "    max_time = 10.\n",
    "    n, r = 1000, 30\n",
    "    M, r = synthetic_SNMF(n, r), r;\n",
    "    monit_acc = false\n",
    "\n",
    "elseif dataset == :cbcl\n",
    "    mu = 1e-2\n",
    "    max_time = 10.\n",
    "    r = 20\n",
    "    M, y_true = load_dataset(\"cbcl\")\n",
    "    monit_acc = false\n",
    "\n",
    "elseif dataset == :coil20\n",
    "    mu = 1e-2\n",
    "    max_time = 20.\n",
    "    M, y_true = load_dataset(\"coil20\")\n",
    "    r = 20\n",
    "\n",
    "elseif dataset == :tdt2\n",
    "    mu = 1e-1\n",
    "    max_time = 20.\n",
    "    M, y_true = load_dataset(\"tdt2\")\n",
    "    r = 30\n",
    "    \n",
    "elseif dataset == :reuters\n",
    "    mu = 1e-1\n",
    "    max_time = 20.\n",
    "    M, y_true = load_dataset(\"reuters\")\n",
    "    r = 25\n",
    "\n",
    "elseif dataset == :orl\n",
    "    mu = 1e-2\n",
    "    max_time = 10.\n",
    "    M, y_true = load_dataset(\"orl\")\n",
    "    r = 40\n",
    "end\n",
    "algo_params[:sym_hals] = (mu = mu,)\n",
    "algo_params[:sym_anls] = (mu = mu,)\n",
    "\n",
    "monitoring_interval = max_time / 20.;"
   ]
  },
  {
   "cell_type": "markdown",
   "metadata": {},
   "source": [
    "# 3. Running experiments\n",
    "\n",
    "We start by defining a convenient wrapper for running an algorithm:"
   ]
  },
  {
   "cell_type": "code",
   "execution_count": 105,
   "metadata": {
    "collapsed": false
   },
   "outputs": [],
   "source": [
    "function run_algo(algo::Symbol, A0::Matrix{Float64}, algo_params)\n",
    "    SymNMF(M, r; algo = algo, \n",
    "        max_iter = max_iter, \n",
    "        max_time = max_time,\n",
    "        monitoring_interval = monitoring_interval, \n",
    "        A_init = A0, \n",
    "        monitor_accuracy = monit_acc, \n",
    "        true_labels = y_true,\n",
    "        algo_params...);\n",
    "end;"
   ]
  },
  {
   "cell_type": "markdown",
   "metadata": {},
   "source": [
    "Run this cell to launch simulations. The variable ```n_runs``` controls the number of random initializations to try.\n",
    "\n",
    "As an example we launched 5 simulations for the TDT2 dataset.  "
   ]
  },
  {
   "cell_type": "code",
   "execution_count": 111,
   "metadata": {
    "collapsed": false
   },
   "outputs": [
    {
     "name": "stdout",
     "output_type": "stream",
     "text": [
      "Run number 1 / 5 ...\n",
      "Terminated after 285 iterations.\n",
      "Terminated after 255 iterations.\n",
      "Terminated after 426 iterations.\n",
      "Terminated after 2 iterations.\n",
      "Constraint satisfaction for penalty method sym_hals : |A - B|/|A| = 0.001132538169582914\n",
      "Terminated after 144 iterations.\n",
      "Constraint satisfaction for penalty method sym_anls : |A - B|/|A| = 0.05145149760599812\n",
      "Terminated after 7 iterations.\n",
      "Run number 2 / 5 ...\n",
      "Terminated after 303 iterations.\n",
      "Terminated after 286 iterations.\n",
      "Terminated after 441 iterations.\n",
      "Terminated after 2 iterations.\n",
      "Constraint satisfaction for penalty method sym_hals : |A - B|/|A| = 0.0015462060259264186\n",
      "Terminated after 160 iterations.\n",
      "Constraint satisfaction for penalty method sym_anls : |A - B|/|A| = 0.03921059181973255\n",
      "Terminated after 10 iterations.\n",
      "Run number 3 / 5 ...\n",
      "Terminated after 320 iterations.\n",
      "Terminated after 296 iterations.\n",
      "Terminated after 449 iterations.\n",
      "Terminated after 2 iterations.\n",
      "Constraint satisfaction for penalty method sym_hals : |A - B|/|A| = 0.0006073875178694544\n",
      "Terminated after 165 iterations.\n",
      "Constraint satisfaction for penalty method sym_anls : |A - B|/|A| = 0.031144366476798274\n",
      "Terminated after 11 iterations.\n",
      "Run number 4 / 5 ...\n",
      "Terminated after 295 iterations.\n",
      "Terminated after 272 iterations.\n",
      "Terminated after 445 iterations.\n",
      "Terminated after 2 iterations.\n",
      "Constraint satisfaction for penalty method sym_hals : |A - B|/|A| = 0.002298021516875658\n",
      "Terminated after 161 iterations.\n",
      "Constraint satisfaction for penalty method sym_anls : |A - B|/|A| = 0.030297195655352667\n",
      "Terminated after 10 iterations.\n",
      "Run number 5 / 5 ...\n",
      "Terminated after 311 iterations.\n",
      "Terminated after 291 iterations.\n",
      "Terminated after 447 iterations.\n",
      "Terminated after 2 iterations.\n",
      "Constraint satisfaction for penalty method sym_hals : |A - B|/|A| = 0.0024030776701046068\n",
      "Terminated after 161 iterations.\n",
      "Constraint satisfaction for penalty method sym_anls : |A - B|/|A| = 0.034057865233255304\n",
      "Terminated after 10 iterations.\n"
     ]
    },
    {
     "data": {
      "text/plain": [
       "250.0118889427224"
      ]
     },
     "execution_count": 111,
     "metadata": {},
     "output_type": "execute_result"
    }
   ],
   "source": [
    "n_runs = 5 # number of runs to average\n",
    "\n",
    "algos_to_run = [:pga, :dyn_nolips, :beta, :cd,\n",
    "    :sym_hals, :sym_anls]\n",
    "\n",
    "all_losses = Dict()\n",
    "clust_accs = Dict()\n",
    "n_measures = Dict()\n",
    "min_loss = Inf\n",
    "\n",
    "for t = 1:n_runs\n",
    "    println(\"Run number $t / $n_runs ...\")\n",
    "    A0 = random_init_sym(M, r);\n",
    "\n",
    "    for algo = algos_to_run\n",
    "        params, name = algo_params[algo], algo_names[algo]\n",
    "\n",
    "        A, losses = run_algo(algo, A0, params)\n",
    "        \n",
    "        # updating minimal loss\n",
    "        min_loss = min(min_loss, minimum(losses[:,2]))\n",
    "        \n",
    "        if t == 1\n",
    "            all_losses[algo] = losses\n",
    "            clust_accs[algo] = [losses[end,:4]]\n",
    "        else\n",
    "            push!(clust_accs[algo], losses[end,:4])\n",
    "            \n",
    "            # a procedure to ensure that all losses measures have same size,\n",
    "            # in order to average them\n",
    "            n_meas_old = size(all_losses[algo],1)\n",
    "            n_meas_new = min(n_meas_old, size(losses,1))\n",
    "\n",
    "            trimmed_old_losses = all_losses[algo][1:n_meas_new,:]\n",
    "            trimmed_losses = losses[1:n_meas_new,:]\n",
    "            \n",
    "            all_losses[algo] = ((t - 1) * trimmed_old_losses + trimmed_losses) / t\n",
    "        end\n",
    "    end    \n",
    "end\n",
    "\n",
    "all_losses[:min_loss] = min_loss"
   ]
  },
  {
   "cell_type": "markdown",
   "metadata": {},
   "source": [
    "# 4. Plotting the convergence speed"
   ]
  },
  {
   "cell_type": "code",
   "execution_count": 114,
   "metadata": {
    "collapsed": false
   },
   "outputs": [
    {
     "data": {
      "image/png": "[encoded data removed]",
      "text/plain": [
       "Figure(PyObject <Figure size 640x480 with 1 Axes>)"
      ]
     },
     "metadata": {},
     "output_type": "display_data"
    },
    {
     "data": {
      "text/plain": [
       "PyObject Text(0.5, 1, 'Results on dataset tdt2, with n = 9394, r = 30. Averaged over 5 runs')"
      ]
     },
     "execution_count": 114,
     "metadata": {},
     "output_type": "execute_result"
    }
   ],
   "source": [
    "fig, ax = subplots()\n",
    "\n",
    "markers = Dict(:pga => \".\", :nolips => \"v\", :acc_nolips => \"s\",\n",
    "    :dyn_nolips => \"D\", :cd => \"None\",\n",
    "    :sym_hals => \"^\", :sym_anls => \"h\", :dyn_acc_nolips => \"s\", :beta => \"None\")\n",
    "\n",
    "\n",
    "algos_to_show = [:dyn_nolips, :beta, :pga, :cd, :sym_anls, :sym_hals]\n",
    "\n",
    "linestyles = Dict()\n",
    "for algo = algos_to_show\n",
    "   linestyles[algo] = \"-\" \n",
    "end\n",
    "\n",
    "linestyles[:beta] = \"--\"\n",
    "linestyles[:cd] = \"-.\"\n",
    "\n",
    "function plot_loss(axis, losses, label, marker, ls)\n",
    "    min_loss = all_losses[:min_loss]\n",
    "    axis.plot(losses[:,1], losses[:,2] .- min_loss, label = label,\n",
    "        marker = marker, linestyle = ls, linewidth = 2)\n",
    "end\n",
    "\n",
    "for algo = algos_to_show\n",
    "   plot_loss(ax, all_losses[algo], algo_names[algo], markers[algo],\n",
    "        linestyles[algo]) \n",
    "end\n",
    "\n",
    "fontsize = 12\n",
    "ax.set_xlabel(\"Time (seconds)\", fontsize = fontsize)\n",
    "\n",
    "ax.set_ylabel(\"f(X^k) - f_min\", fontsize = fontsize)\n",
    "\n",
    "ax.legend(fontsize = fontsize, loc = 1);\n",
    "ax.set_yscale(\"log\");\n",
    "\n",
    "n = size(M, 1)\n",
    "title(\"Results on dataset $dataset, with n = $n, r = $r. Averaged over $n_runs runs\")\n",
    "# ax1[:set_xlim](0, 5.)"
   ]
  },
  {
   "cell_type": "markdown",
   "metadata": {},
   "source": [
    "# 5. Evaluating clustering accuracy"
   ]
  },
  {
   "cell_type": "code",
   "execution_count": 115,
   "metadata": {
    "collapsed": false
   },
   "outputs": [
    {
     "name": "stdout",
     "output_type": "stream",
     "text": [
      "Clustering accuracies \n",
      "\n",
      "PG\t0.8300404513519268\n",
      "Dyn-Nolips\t0.8559293165850542\n",
      "Beta\t0.798743879071748\n",
      "CD\t0.2748562912497339\n",
      "SymHALS\t0.8444326165637641\n",
      "SymANLS\t0.5601660634447521\n"
     ]
    }
   ],
   "source": [
    "println(\"Clustering accuracies \\n\")\n",
    "for algo = algos_to_run\n",
    "    println(algo_names[algo], \"\\t\", mean(clust_accs[algo]))\n",
    "end"
   ]
  },
  {
   "cell_type": "code",
   "execution_count": null,
   "metadata": {
    "collapsed": true
   },
   "outputs": [],
   "source": []
  }
 ],
 "metadata": {
  "@webio": {
   "lastCommId": "A017F656921E4A27879C32B88987A3B7",
   "lastKernelId": "de8bed00-5d53-4a9b-a714-4e99726517b4"
  },
  "kernelspec": {
   "display_name": "Julia 1.1.0",
   "language": "julia",
   "name": "julia-1.1"
  },
  "language_info": {
   "file_extension": ".jl",
   "mimetype": "application/julia",
   "name": "julia",
   "version": "1.1.0"
  }
 },
 "nbformat": 4,
 "nbformat_minor": 2
}
