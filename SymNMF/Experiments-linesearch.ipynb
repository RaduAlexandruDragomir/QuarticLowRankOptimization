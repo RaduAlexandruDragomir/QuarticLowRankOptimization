{
 "cells": [
  {
   "cell_type": "markdown",
   "metadata": {},
   "source": [
    "# SymNMF numerical experiments\n",
    "\n",
    "This notebook shows how to reproduce the experiments for Symmetric Nonnegative Matrix Factorization (SymNMF) described in \n",
    "\n",
    "> R.A. Dragomir, A. d'Aspremont and J. Bolte. Quartic First-Order Methods for Low Rank Minimization (2019)"
   ]
  },
  {
   "cell_type": "code",
   "execution_count": 175,
   "metadata": {
    "collapsed": false
   },
   "outputs": [
    {
     "data": {
      "text/plain": [
       "SymNMF"
      ]
     },
     "execution_count": 175,
     "metadata": {},
     "output_type": "execute_result"
    }
   ],
   "source": [
    "include(\"utils.jl\")\n",
    "include(\"PG.jl\") # projected gradient \n",
    "include(\"BPG.jl\") # Bregman proximal gradient algorithms (Nolips and variants)\n",
    "include(\"Beta.jl\")\n",
    "include(\"CD.jl\")\n",
    "include(\"SymHALS.jl\")\n",
    "include(\"SymANLS.jl\")\n",
    "\n",
    "include(\"SymNMF.jl\") # wrapper for all SymNMF solvers"
   ]
  },
  {
   "cell_type": "code",
   "execution_count": 64,
   "metadata": {
    "collapsed": false
   },
   "outputs": [],
   "source": [
    "using LinearAlgebra\n",
    "using PyPlot\n",
    "using Random\n",
    "using NPZ\n",
    "using SparseArrays\n",
    "using JLD"
   ]
  },
  {
   "cell_type": "markdown",
   "metadata": {},
   "source": [
    "# 1. Defining algorithm-specific parameters"
   ]
  },
  {
   "cell_type": "code",
   "execution_count": 152,
   "metadata": {
    "collapsed": false
   },
   "outputs": [
    {
     "data": {
      "text/plain": [
       "(mu = 0.01,)"
      ]
     },
     "execution_count": 152,
     "metadata": {},
     "output_type": "execute_result"
    }
   ],
   "source": [
    "algos = [:pga, :nolips, :dyn_nolips, :adap_nolips, :beta, :cd, :sym_hals]\n",
    "algo_names = Dict(:pga => \"PG\", :nolips => \"Nolips\", :adap_nolips => \"Adap-NoLips\",\n",
    "    :dyn_nolips => \"Dyn-Nolips\", :beta => \"Beta\", :cd => \"CD\",\n",
    "    :sym_hals => \"SymHALS\", :sym_anls => \"SymANLS\")\n",
    "\n",
    "algo_params = Dict()\n",
    "\n",
    "algo_params[:pga] = (step = 1., beta = 0.5, sigma = 0.5, max_inner_iter = 20)\n",
    "algo_params[:nolips] = (step = 1. / 6.,)\n",
    "algo_params[:adap_nolips] = ()\n",
    "algo_params[:dyn_nolips] = (step = 1., max_iter_ls = 20)\n",
    "algo_params[:beta] = (beta = 0.99,)\n",
    "algo_params[:cd] = ()\n",
    "algo_params[:sym_hals] = (mu = 1e-2,)"
   ]
  },
  {
   "cell_type": "markdown",
   "metadata": {},
   "source": [
    "# 2. Loading data\n",
    "\n",
    "All similarity matrices can be found in a pre-processed format in the ```data/``` folder. Choose the dataset by setting the ```dataset``` variable below:"
   ]
  },
  {
   "cell_type": "code",
   "execution_count": 147,
   "metadata": {
    "collapsed": false
   },
   "outputs": [
    {
     "data": {
      "text/plain": [
       ":cbcl"
      ]
     },
     "execution_count": 147,
     "metadata": {},
     "output_type": "execute_result"
    }
   ],
   "source": [
    "possible_choices = [:synth500, :synth1000, :cbcl, :coil20, :tdt2, :reuters]\n",
    "\n",
    "dataset = :cbcl # CHANGE HERE"
   ]
  },
  {
   "cell_type": "markdown",
   "metadata": {},
   "source": [
    "We now load the desired dataset and set the specific experiment parameters (such as the penalization $\\mu$ for penalty methods, and the maximal running time):"
   ]
  },
  {
   "cell_type": "code",
   "execution_count": 148,
   "metadata": {
    "collapsed": false
   },
   "outputs": [],
   "source": [
    "max_iter = 12000\n",
    "max_time = 10.\n",
    "monit_acc = true;\n",
    "y_true = [0]\n",
    "\n",
    "function load_dataset(ds_name)\n",
    "    file_content = load(\"data/$ds_name.jld\") \n",
    "    return file_content[\"M\"], file_content[\"labels\"]\n",
    "end\n",
    "\n",
    "if dataset == :synth500 # synthetic dataset\n",
    "    mu = 1e1\n",
    "    max_time = 5.\n",
    "    n, r = 500, 20\n",
    "    M, r = synthetic_SNMF(n, r), r;\n",
    "    monit_acc = false\n",
    "\n",
    "elseif dataset == :synth1000\n",
    "    mu = 1e1\n",
    "    max_time = 10.\n",
    "    n, r = 1000, 30\n",
    "    M, r = synthetic_SNMF(n, r), r;\n",
    "    monit_acc = false\n",
    "\n",
    "elseif dataset == :cbcl\n",
    "    mu = 1e-2\n",
    "    max_time = 10.\n",
    "    r = 20\n",
    "    M, y_true = load_dataset(\"cbcl\")\n",
    "    monit_acc = false\n",
    "\n",
    "elseif dataset == :coil20\n",
    "    mu = 1e-2\n",
    "    max_time = 20.\n",
    "    M, y_true = load_dataset(\"coil20\")\n",
    "    r = 20\n",
    "\n",
    "elseif dataset == :tdt2\n",
    "    mu = 1e-1\n",
    "    max_time = 20.\n",
    "    M, y_true = load_dataset(\"tdt2\")\n",
    "    r = 30\n",
    "    \n",
    "elseif dataset == :reuters\n",
    "    mu = 1e-1\n",
    "    max_time = 20.\n",
    "    M, y_true = load_dataset(\"reuters\")\n",
    "    r = 25\n",
    "\n",
    "elseif dataset == :orl\n",
    "    mu = 1e-2\n",
    "    max_time = 10.\n",
    "    M, y_true = load_dataset(\"orl\")\n",
    "    r = 40\n",
    "end\n",
    "\n",
    "algo_params[:sym_hals] = (mu = mu,)\n",
    "algo_params[:sym_anls] = (mu = mu,)\n",
    "\n",
    "monitoring_interval = max_time / 20.;"
   ]
  },
  {
   "cell_type": "markdown",
   "metadata": {},
   "source": [
    "# 3. Running experiments\n",
    "\n",
    "We start by defining a convenient wrapper for running an algorithm:"
   ]
  },
  {
   "cell_type": "code",
   "execution_count": 149,
   "metadata": {
    "collapsed": false
   },
   "outputs": [],
   "source": [
    "function run_algo(algo::Symbol, A0::Matrix{Float64}, algo_params)\n",
    "    SymNMF(M, r; algo = algo, \n",
    "        max_iter = max_iter, \n",
    "        max_time = max_time,\n",
    "        monitoring_interval = monitoring_interval, \n",
    "        A_init = A0, \n",
    "        monitor_accuracy = monit_acc, \n",
    "        true_labels = y_true,\n",
    "        algo_params...);\n",
    "end;"
   ]
  },
  {
   "cell_type": "markdown",
   "metadata": {},
   "source": [
    "Run this cell to launch simulations. The variable ```n_runs``` controls the number of random initializations to try.\n",
    "\n",
    "As an example we launched 5 simulations for the TDT2 dataset.  "
   ]
  },
  {
   "cell_type": "code",
   "execution_count": 192,
   "metadata": {},
   "outputs": [
    {
     "data": {
      "text/plain": [
       "(step = 1.0, max_iter_ls = 20, alpha = 0.1, sigma = 1.0)"
      ]
     },
     "execution_count": 192,
     "metadata": {},
     "output_type": "execute_result"
    }
   ],
   "source": [
    "include(\"utils.jl\")\n",
    "include(\"PG.jl\") # projected gradient \n",
    "include(\"BPG.jl\") # Bregman proximal gradient algorithms (Nolips and variants)\n",
    "algo_params[:dyn_nolips] = (step = 1., max_iter_ls = 20, alpha = 1e-1, sigma = 1.)"
   ]
  },
  {
   "cell_type": "code",
   "execution_count": 193,
   "metadata": {
    "collapsed": false
   },
   "outputs": [
    {
     "name": "stdout",
     "output_type": "stream",
     "text": [
      "Run number 1 / 1 ...\n",
      "Terminated after 127 iterations.\n",
      "Terminated after 62 iterations.\n"
     ]
    }
   ],
   "source": [
    "n_runs = 1 # number of runs to average\n",
    "\n",
    "# algos_to_run = [:pga, :dyn_nolips, :adap_nolips]\n",
    "algos_to_run = [:pga, :dyn_nolips]\n",
    "# algos_to_run = [:dyn_nolips]\n",
    "\n",
    "all_losses = Dict()\n",
    "clust_accs = Dict()\n",
    "n_measures = Dict()\n",
    "min_loss = Inf\n",
    "\n",
    "for t = 1:n_runs\n",
    "    println(\"Run number $t / $n_runs ...\")\n",
    "    A0 = random_init_sym(M, r);\n",
    "\n",
    "    for algo = algos_to_run\n",
    "        params, name = algo_params[algo], algo_names[algo]\n",
    "\n",
    "        A, losses = run_algo(algo, A0, params)\n",
    "        \n",
    "        # updating minimal loss\n",
    "        min_loss = min(min_loss, minimum(losses[:,2]))\n",
    "        \n",
    "        if t == 1\n",
    "            all_losses[algo] = losses\n",
    "            clust_accs[algo] = [losses[end,:4]]\n",
    "        else\n",
    "            push!(clust_accs[algo], losses[end,:4])\n",
    "            \n",
    "            # a procedure to ensure that all losses measures have same size,\n",
    "            # in order to average them\n",
    "            n_meas_old = size(all_losses[algo],1)\n",
    "            n_meas_new = min(n_meas_old, size(losses,1))\n",
    "\n",
    "            trimmed_old_losses = all_losses[algo][1:n_meas_new,:]\n",
    "            trimmed_losses = losses[1:n_meas_new,:]\n",
    "            \n",
    "            all_losses[algo] = ((t - 1) * trimmed_old_losses + trimmed_losses) / t\n",
    "        end\n",
    "    end    \n",
    "end\n",
    "\n",
    "all_losses[:min_loss] = min_loss;"
   ]
  },
  {
   "cell_type": "markdown",
   "metadata": {},
   "source": [
    "# 4. Plotting the convergence speed"
   ]
  },
  {
   "cell_type": "code",
   "execution_count": 195,
   "metadata": {
    "collapsed": false
   },
   "outputs": [
    {
     "data": {
      "image/png": "[encoded data removed]",
      "text/plain": [
       "Figure(PyObject <Figure size 640x480 with 1 Axes>)"
      ]
     },
     "metadata": {},
     "output_type": "display_data"
    },
    {
     "name": "stderr",
     "output_type": "stream",
     "text": [
      "┌ Warning: `getindex(o::PyObject, s::Symbol)` is deprecated in favor of dot overloading (`getproperty`) so elements should now be accessed as e.g. `o.s` instead of `o[:s]`.\n",
      "│   caller = plot_loss(::PyCall.PyObject, ::Array{Float64,2}, ::String, ::String, ::String) at In[195]:19\n",
      "└ @ Main ./In[195]:19\n",
      "┌ Warning: `getindex(o::PyObject, s::Symbol)` is deprecated in favor of dot overloading (`getproperty`) so elements should now be accessed as e.g. `o.s` instead of `o[:s]`.\n",
      "│   caller = top-level scope at In[195]:29\n",
      "└ @ Core In[195]:29\n",
      "┌ Warning: `getindex(o::PyObject, s::Symbol)` is deprecated in favor of dot overloading (`getproperty`) so elements should now be accessed as e.g. `o.s` instead of `o[:s]`.\n",
      "│   caller = top-level scope at In[195]:30\n",
      "└ @ Core In[195]:30\n",
      "┌ Warning: `getindex(o::PyObject, s::Symbol)` is deprecated in favor of dot overloading (`getproperty`) so elements should now be accessed as e.g. `o.s` instead of `o[:s]`.\n",
      "│   caller = top-level scope at In[195]:32\n",
      "└ @ Core In[195]:32\n",
      "┌ Warning: `getindex(o::PyObject, s::Symbol)` is deprecated in favor of dot overloading (`getproperty`) so elements should now be accessed as e.g. `o.s` instead of `o[:s]`.\n",
      "│   caller = top-level scope at In[195]:34\n",
      "└ @ Core In[195]:34\n"
     ]
    },
    {
     "data": {
      "text/plain": [
       "PyObject Text(0.5, 1, 'Results on dataset cbcl, with n = 2429, r = 20. Averaged over 1 runs')"
      ]
     },
     "execution_count": 195,
     "metadata": {},
     "output_type": "execute_result"
    }
   ],
   "source": [
    "fig, ax = subplots()\n",
    "\n",
    "markers = Dict(:pga => \".\", :nolips => \"v\", :adap_nolips => \"s\",\n",
    "    :dyn_nolips => \"D\", :cd => \"None\",\n",
    "    :sym_hals => \"^\", :sym_anls => \"h\", :beta => \"None\")\n",
    "\n",
    "algos_to_show = algos_to_run\n",
    "\n",
    "linestyles = Dict()\n",
    "for algo = algos_to_show\n",
    "   linestyles[algo] = \"-\" \n",
    "end\n",
    "\n",
    "linestyles[:beta] = \"--\"\n",
    "linestyles[:cd] = \"-.\"\n",
    "\n",
    "function plot_loss(axis, losses, label, marker, ls)\n",
    "    min_loss = all_losses[:min_loss]\n",
    "    axis[:plot](losses[:,1], losses[:,2] .- min_loss, label = label,\n",
    "        marker = marker, linestyle = ls, linewidth = 2)\n",
    "end\n",
    "\n",
    "for algo = algos_to_show\n",
    "   plot_loss(ax, all_losses[algo], algo_names[algo], markers[algo],\n",
    "        linestyles[algo]) \n",
    "    end\n",
    "\n",
    "fontsize = 12\n",
    "ax[:set_xlabel](\"Time (seconds)\", fontsize = fontsize)\n",
    "\n",
    "ax[:set_ylabel](\"f(X^k) - f_min\", fontsize = fontsize)\n",
    "\n",
    "ax[:legend](fontsize = fontsize, loc = 1);\n",
    "ax[:set_yscale](\"log\");\n",
    "\n",
    "n = size(M, 1)\n",
    "title(\"Results on dataset $dataset, with n = $n, r = $r. Averaged over $n_runs runs\")\n",
    "# ax1[:set_xlim](0, 5.)"
   ]
  },
  {
   "cell_type": "markdown",
   "metadata": {},
   "source": [
    "# 5. Evaluating clustering accuracy"
   ]
  },
  {
   "cell_type": "code",
   "execution_count": 144,
   "metadata": {
    "collapsed": false
   },
   "outputs": [
    {
     "name": "stdout",
     "output_type": "stream",
     "text": [
      "Clustering accuracies \n",
      "\n",
      "PG\t0.4767047595127465\n",
      "Dyn-Nolips\t0.4582443802586965\n",
      "Adap-NoLips\t0.4709280421951526\n"
     ]
    }
   ],
   "source": [
    "println(\"Clustering accuracies \\n\")\n",
    "for algo = algos_to_run\n",
    "    println(algo_names[algo], \"\\t\", mean(clust_accs[algo]))\n",
    "end"
   ]
  },
  {
   "cell_type": "code",
   "execution_count": null,
   "metadata": {
    "collapsed": true
   },
   "outputs": [],
   "source": []
  }
 ],
 "metadata": {
  "@webio": {
   "lastCommId": "A017F656921E4A27879C32B88987A3B7",
   "lastKernelId": "de8bed00-5d53-4a9b-a714-4e99726517b4"
  },
  "kernelspec": {
   "display_name": "Julia 1.1.0",
   "language": "julia",
   "name": "julia-1.1"
  },
  "language_info": {
   "file_extension": ".jl",
   "mimetype": "application/julia",
   "name": "julia",
   "version": "1.1.0"
  }
 },
 "nbformat": 4,
 "nbformat_minor": 2
}
